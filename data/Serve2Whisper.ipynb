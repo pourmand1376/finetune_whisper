{
 "cells": [
  {
   "cell_type": "code",
   "execution_count": 2,
   "id": "6bd13fa8-df79-46f8-8b8b-fe5a85114b9f",
   "metadata": {},
   "outputs": [
    {
     "name": "stdout",
     "output_type": "stream",
     "text": [
      "Requirement already satisfied: faster-whisper in /home/user/.pyenv/versions/3.10.13/lib/python3.10/site-packages (0.10.0)\n",
      "Requirement already satisfied: av==10.* in /home/user/.pyenv/versions/3.10.13/lib/python3.10/site-packages (from faster-whisper) (10.0.0)\n",
      "Requirement already satisfied: ctranslate2<4,>=3.22 in /home/user/.pyenv/versions/3.10.13/lib/python3.10/site-packages (from faster-whisper) (3.24.0)\n",
      "Requirement already satisfied: huggingface-hub>=0.13 in /home/user/.pyenv/versions/3.10.13/lib/python3.10/site-packages (from faster-whisper) (0.20.2)\n",
      "Requirement already satisfied: tokenizers<0.16,>=0.13 in /home/user/.pyenv/versions/3.10.13/lib/python3.10/site-packages (from faster-whisper) (0.15.0)\n",
      "Requirement already satisfied: onnxruntime<2,>=1.14 in /home/user/.pyenv/versions/3.10.13/lib/python3.10/site-packages (from faster-whisper) (1.16.3)\n",
      "Requirement already satisfied: setuptools in /home/user/.pyenv/versions/3.10.13/lib/python3.10/site-packages (from ctranslate2<4,>=3.22->faster-whisper) (69.0.3)\n",
      "Requirement already satisfied: numpy in /home/user/.pyenv/versions/3.10.13/lib/python3.10/site-packages (from ctranslate2<4,>=3.22->faster-whisper) (1.26.3)\n",
      "Requirement already satisfied: pyyaml<7,>=5.3 in /home/user/.pyenv/versions/3.10.13/lib/python3.10/site-packages (from ctranslate2<4,>=3.22->faster-whisper) (6.0.1)\n",
      "Requirement already satisfied: filelock in /home/user/.pyenv/versions/3.10.13/lib/python3.10/site-packages (from huggingface-hub>=0.13->faster-whisper) (3.13.1)\n",
      "Requirement already satisfied: fsspec>=2023.5.0 in /home/user/.pyenv/versions/3.10.13/lib/python3.10/site-packages (from huggingface-hub>=0.13->faster-whisper) (2023.10.0)\n",
      "Requirement already satisfied: requests in /home/user/.pyenv/versions/3.10.13/lib/python3.10/site-packages (from huggingface-hub>=0.13->faster-whisper) (2.31.0)\n",
      "Requirement already satisfied: tqdm>=4.42.1 in /home/user/.pyenv/versions/3.10.13/lib/python3.10/site-packages (from huggingface-hub>=0.13->faster-whisper) (4.66.1)\n",
      "Requirement already satisfied: typing-extensions>=3.7.4.3 in /home/user/.pyenv/versions/3.10.13/lib/python3.10/site-packages (from huggingface-hub>=0.13->faster-whisper) (4.9.0)\n",
      "Requirement already satisfied: packaging>=20.9 in /home/user/.pyenv/versions/3.10.13/lib/python3.10/site-packages (from huggingface-hub>=0.13->faster-whisper) (23.2)\n",
      "Requirement already satisfied: coloredlogs in /home/user/.pyenv/versions/3.10.13/lib/python3.10/site-packages (from onnxruntime<2,>=1.14->faster-whisper) (15.0.1)\n",
      "Requirement already satisfied: flatbuffers in /home/user/.pyenv/versions/3.10.13/lib/python3.10/site-packages (from onnxruntime<2,>=1.14->faster-whisper) (23.5.26)\n",
      "Requirement already satisfied: protobuf in /home/user/.pyenv/versions/3.10.13/lib/python3.10/site-packages (from onnxruntime<2,>=1.14->faster-whisper) (4.25.2)\n",
      "Requirement already satisfied: sympy in /home/user/.pyenv/versions/3.10.13/lib/python3.10/site-packages (from onnxruntime<2,>=1.14->faster-whisper) (1.12)\n",
      "Requirement already satisfied: humanfriendly>=9.1 in /home/user/.pyenv/versions/3.10.13/lib/python3.10/site-packages (from coloredlogs->onnxruntime<2,>=1.14->faster-whisper) (10.0)\n",
      "Requirement already satisfied: charset-normalizer<4,>=2 in /home/user/.pyenv/versions/3.10.13/lib/python3.10/site-packages (from requests->huggingface-hub>=0.13->faster-whisper) (3.3.2)\n",
      "Requirement already satisfied: idna<4,>=2.5 in /home/user/.pyenv/versions/3.10.13/lib/python3.10/site-packages (from requests->huggingface-hub>=0.13->faster-whisper) (3.6)\n",
      "Requirement already satisfied: urllib3<3,>=1.21.1 in /home/user/.pyenv/versions/3.10.13/lib/python3.10/site-packages (from requests->huggingface-hub>=0.13->faster-whisper) (2.1.0)\n",
      "Requirement already satisfied: certifi>=2017.4.17 in /home/user/.pyenv/versions/3.10.13/lib/python3.10/site-packages (from requests->huggingface-hub>=0.13->faster-whisper) (2023.11.17)\n",
      "Requirement already satisfied: mpmath>=0.19 in /home/user/.pyenv/versions/3.10.13/lib/python3.10/site-packages (from sympy->onnxruntime<2,>=1.14->faster-whisper) (1.3.0)\n",
      "Note: you may need to restart the kernel to use updated packages.\n"
     ]
    }
   ],
   "source": [
    "pip install faster-whisper"
   ]
  },
  {
   "cell_type": "code",
   "execution_count": 17,
   "id": "414a984c-5a79-4142-9d0b-5c930c58f4f1",
   "metadata": {},
   "outputs": [],
   "source": [
    "# cp tokenizer.json train_with_generate_only_persian_common_voice/checkpoint-12000\n",
    "#!ct2-transformers-converter --model train_with_generate_only_persian_common_voice/checkpoint-12000 --output_dir converted/checkpoint12000 --copy_files tokenizer.json preprocessor_config.json --quantization float16"
   ]
  },
  {
   "cell_type": "code",
   "execution_count": 2,
   "id": "685f394d-f963-4f6e-aecf-4162ee7e6623",
   "metadata": {},
   "outputs": [
    {
     "name": "stdout",
     "output_type": "stream",
     "text": [
      "env: CUDA_DEVICE_ORDER=PCI_BUS_ID\n",
      "env: CUDA_VISIBLE_DEVICES=4\n"
     ]
    }
   ],
   "source": [
    "%env CUDA_DEVICE_ORDER=PCI_BUS_ID\n",
    "%env CUDA_VISIBLE_DEVICES=4"
   ]
  },
  {
   "cell_type": "code",
   "execution_count": 3,
   "id": "7d0ed03f-9365-4975-b123-a8f9557a3b55",
   "metadata": {},
   "outputs": [],
   "source": [
    "from faster_whisper import WhisperModel\n",
    "\n",
    "model_size = \"converted/checkpoint12000\"\n",
    "\n",
    "# Run on GPU with FP16\n",
    "model = WhisperModel(model_size,device=\"cuda\",compute_type=\"float16\")"
   ]
  },
  {
   "cell_type": "code",
   "execution_count": 5,
   "id": "0becc711-85e2-4e19-80d8-daa76e934fa9",
   "metadata": {},
   "outputs": [
    {
     "ename": "RuntimeError",
     "evalue": "Library libcublas.so.11 is not found or cannot be loaded",
     "output_type": "error",
     "traceback": [
      "\u001b[0;31m---------------------------------------------------------------------------\u001b[0m",
      "\u001b[0;31mRuntimeError\u001b[0m                              Traceback (most recent call last)",
      "Cell \u001b[0;32mIn[5], line 1\u001b[0m\n\u001b[0;32m----> 1\u001b[0m segments, info \u001b[38;5;241m=\u001b[39m \u001b[43mmodel\u001b[49m\u001b[38;5;241;43m.\u001b[39;49m\u001b[43mtranscribe\u001b[49m\u001b[43m(\u001b[49m\u001b[38;5;124;43m\"\u001b[39;49m\u001b[38;5;124;43mvoices/کارت بانکی 2.wav\u001b[39;49m\u001b[38;5;124;43m\"\u001b[39;49m\u001b[43m,\u001b[49m\u001b[43m \u001b[49m\u001b[43m)\u001b[49m\n\u001b[1;32m      3\u001b[0m \u001b[38;5;28mprint\u001b[39m(\u001b[38;5;124m\"\u001b[39m\u001b[38;5;124mDetected language \u001b[39m\u001b[38;5;124m'\u001b[39m\u001b[38;5;132;01m%s\u001b[39;00m\u001b[38;5;124m'\u001b[39m\u001b[38;5;124m with probability \u001b[39m\u001b[38;5;132;01m%f\u001b[39;00m\u001b[38;5;124m\"\u001b[39m \u001b[38;5;241m%\u001b[39m (info\u001b[38;5;241m.\u001b[39mlanguage, info\u001b[38;5;241m.\u001b[39mlanguage_probability))\n\u001b[1;32m      5\u001b[0m \u001b[38;5;28;01mfor\u001b[39;00m segment \u001b[38;5;129;01min\u001b[39;00m segments:\n",
      "File \u001b[0;32m~/.pyenv/versions/3.10.13/lib/python3.10/site-packages/faster_whisper/transcribe.py:327\u001b[0m, in \u001b[0;36mWhisperModel.transcribe\u001b[0;34m(self, audio, language, task, beam_size, best_of, patience, length_penalty, repetition_penalty, no_repeat_ngram_size, temperature, compression_ratio_threshold, log_prob_threshold, no_speech_threshold, condition_on_previous_text, prompt_reset_on_temperature, initial_prompt, prefix, suppress_blank, suppress_tokens, without_timestamps, max_initial_timestamp, word_timestamps, prepend_punctuations, append_punctuations, vad_filter, vad_parameters)\u001b[0m\n\u001b[1;32m    325\u001b[0m \u001b[38;5;28;01melse\u001b[39;00m:\n\u001b[1;32m    326\u001b[0m     segment \u001b[38;5;241m=\u001b[39m features[:, : \u001b[38;5;28mself\u001b[39m\u001b[38;5;241m.\u001b[39mfeature_extractor\u001b[38;5;241m.\u001b[39mnb_max_frames]\n\u001b[0;32m--> 327\u001b[0m     encoder_output \u001b[38;5;241m=\u001b[39m \u001b[38;5;28;43mself\u001b[39;49m\u001b[38;5;241;43m.\u001b[39;49m\u001b[43mencode\u001b[49m\u001b[43m(\u001b[49m\u001b[43msegment\u001b[49m\u001b[43m)\u001b[49m\n\u001b[1;32m    328\u001b[0m     \u001b[38;5;66;03m# results is a list of tuple[str, float] with language names and\u001b[39;00m\n\u001b[1;32m    329\u001b[0m     \u001b[38;5;66;03m# probabilities.\u001b[39;00m\n\u001b[1;32m    330\u001b[0m     results \u001b[38;5;241m=\u001b[39m \u001b[38;5;28mself\u001b[39m\u001b[38;5;241m.\u001b[39mmodel\u001b[38;5;241m.\u001b[39mdetect_language(encoder_output)[\u001b[38;5;241m0\u001b[39m]\n",
      "File \u001b[0;32m~/.pyenv/versions/3.10.13/lib/python3.10/site-packages/faster_whisper/transcribe.py:629\u001b[0m, in \u001b[0;36mWhisperModel.encode\u001b[0;34m(self, features)\u001b[0m\n\u001b[1;32m    626\u001b[0m features \u001b[38;5;241m=\u001b[39m np\u001b[38;5;241m.\u001b[39mexpand_dims(features, \u001b[38;5;241m0\u001b[39m)\n\u001b[1;32m    627\u001b[0m features \u001b[38;5;241m=\u001b[39m get_ctranslate2_storage(features)\n\u001b[0;32m--> 629\u001b[0m \u001b[38;5;28;01mreturn\u001b[39;00m \u001b[38;5;28;43mself\u001b[39;49m\u001b[38;5;241;43m.\u001b[39;49m\u001b[43mmodel\u001b[49m\u001b[38;5;241;43m.\u001b[39;49m\u001b[43mencode\u001b[49m\u001b[43m(\u001b[49m\u001b[43mfeatures\u001b[49m\u001b[43m,\u001b[49m\u001b[43m \u001b[49m\u001b[43mto_cpu\u001b[49m\u001b[38;5;241;43m=\u001b[39;49m\u001b[43mto_cpu\u001b[49m\u001b[43m)\u001b[49m\n",
      "\u001b[0;31mRuntimeError\u001b[0m: Library libcublas.so.11 is not found or cannot be loaded"
     ]
    }
   ],
   "source": [
    "segments, info = model.transcribe(\"voices/کارت بانکی 2.wav\", beam_size=5)\n",
    "\n",
    "print(\"Detected language '%s' with probability %f\" % (info.language, info.language_probability))\n",
    "\n",
    "for segment in segments:\n",
    "    print(\"[%.2fs -> %.2fs] %s\" % (segment.start, segment.end, segment.text))"
   ]
  },
  {
   "cell_type": "code",
   "execution_count": null,
   "id": "b403310d-e80e-4b27-8249-82609028450d",
   "metadata": {},
   "outputs": [],
   "source": []
  }
 ],
 "metadata": {
  "kernelspec": {
   "display_name": "Python 3 (ipykernel)",
   "language": "python",
   "name": "python3"
  },
  "language_info": {
   "codemirror_mode": {
    "name": "ipython",
    "version": 3
   },
   "file_extension": ".py",
   "mimetype": "text/x-python",
   "name": "python",
   "nbconvert_exporter": "python",
   "pygments_lexer": "ipython3",
   "version": "3.10.13"
  }
 },
 "nbformat": 4,
 "nbformat_minor": 5
}
