{
 "cells": [
  {
   "cell_type": "code",
   "execution_count": 34,
   "id": "98a734df-6a83-40fb-9050-5acdef67d82a",
   "metadata": {},
   "outputs": [],
   "source": [
    "from datasets import load_from_disk"
   ]
  },
  {
   "cell_type": "code",
   "execution_count": null,
   "id": "6181b945-d732-4fac-b892-acaaa577b60c",
   "metadata": {},
   "outputs": [],
   "source": [
    "# run this cell two times: one with kyc and one with crm dataset\n",
    "dataset=load_from_disk('dataset/crm-huggingface-dataset')\n",
    "dataset"
   ]
  },
  {
   "cell_type": "code",
   "execution_count": null,
   "id": "1dbfcf67-8a9e-44cb-8ef8-9753385421ef",
   "metadata": {},
   "outputs": [],
   "source": [
    "dataset = dataset.remove_columns([\"locale\", \"client_id\"])\n",
    "\n",
    "print(dataset)"
   ]
  },
  {
   "cell_type": "code",
   "execution_count": null,
   "id": "bee3195c-ce21-4131-b239-b9fcc6e4a828",
   "metadata": {},
   "outputs": [],
   "source": [
    "from transformers import WhisperFeatureExtractor\n",
    "\n",
    "feature_extractor = WhisperFeatureExtractor.from_pretrained(\"openai/whisper-medium\",cache_dir='v3')"
   ]
  },
  {
   "cell_type": "code",
   "execution_count": null,
   "id": "db54a1b0-a0eb-44e9-8c1f-f5d9f3cba5c9",
   "metadata": {},
   "outputs": [],
   "source": [
    "from transformers import WhisperTokenizer\n",
    "\n",
    "tokenizer = WhisperTokenizer.from_pretrained(\"openai/whisper-medium\", language=\"Persian\", task=\"transcribe\",cache_dir='v3')"
   ]
  },
  {
   "cell_type": "code",
   "execution_count": null,
   "id": "eae1ffe2-9ce4-451c-93d7-c08dd52eee79",
   "metadata": {},
   "outputs": [],
   "source": [
    "from transformers import WhisperProcessor\n",
    "\n",
    "processor = WhisperProcessor.from_pretrained(\"openai/whisper-medium\", language=\"Persian\", task=\"transcribe\",cache_dir='v3')"
   ]
  },
  {
   "cell_type": "code",
   "execution_count": 29,
   "id": "a30babe4-5b58-4577-9b01-c1a3a00b5b64",
   "metadata": {},
   "outputs": [],
   "source": [
    "from datasets import Audio\n",
    "\n",
    "dataset = dataset.cast_column(\"audio\", Audio(sampling_rate=16000))"
   ]
  },
  {
   "cell_type": "code",
   "execution_count": 30,
   "id": "3ac37d74-7609-4bd3-8ee4-ebba633cec11",
   "metadata": {},
   "outputs": [],
   "source": [
    "def prepare_dataset(batch):\n",
    "    # load and resample audio data from 48 to 16kHz\n",
    "    audio = batch[\"audio\"]\n",
    "\n",
    "    # compute log-Mel input features from input audio array\n",
    "    batch[\"input_features\"] = feature_extractor(audio[\"array\"], sampling_rate=audio[\"sampling_rate\"]).input_features[0]\n",
    "\n",
    "    # encode target text to label ids\n",
    "    batch[\"labels\"] = tokenizer(batch[\"transcription\"]).input_ids\n",
    "    return batch"
   ]
  },
  {
   "cell_type": "code",
   "execution_count": 31,
   "id": "8fdb4aeb-46cd-4a60-942b-32ed57ec1b76",
   "metadata": {},
   "outputs": [],
   "source": [
    "from datasets import Audio\n",
    "\n",
    "dataset = dataset.cast_column(\"audio\", Audio(sampling_rate=16000))"
   ]
  },
  {
   "cell_type": "code",
   "execution_count": null,
   "id": "d0c38772-864f-4faa-9e80-f90cbc0c5378",
   "metadata": {},
   "outputs": [
    {
     "name": "stderr",
     "output_type": "stream",
     "text": [
      "Map (num_proc=10):  28%|██▊       | 215852/780809 [3:02:46<8:28:11, 18.53 examples/s] "
     ]
    }
   ],
   "source": [
    "dataset = dataset.map(prepare_dataset, remove_columns=dataset.column_names[\"train\"], num_proc=10)"
   ]
  },
  {
   "cell_type": "code",
   "execution_count": 37,
   "id": "4144e77f-338e-4597-bc98-04392336c65b",
   "metadata": {},
   "outputs": [
    {
     "name": "stderr",
     "output_type": "stream",
     "text": [
      "Saving the dataset (1501/1501 shards): 100%|██████████| 780809/780809 [43:47<00:00, 297.18 examples/s] \n",
      "Saving the dataset (167/167 shards): 100%|██████████| 86757/86757 [04:28<00:00, 323.05 examples/s]\n"
     ]
    }
   ],
   "source": [
    "dataset.save_to_disk('dataset/whisper_processed_data/crm-processed.hf')"
   ]
  },
  {
   "cell_type": "code",
   "execution_count": 36,
   "id": "b98ad005-16a2-433b-8c5a-1eb046d96999",
   "metadata": {},
   "outputs": [
    {
     "data": {
      "text/plain": [
       "DatasetDict({\n",
       "    train: Dataset({\n",
       "        features: ['input_features', 'labels'],\n",
       "        num_rows: 780809\n",
       "    })\n",
       "    test: Dataset({\n",
       "        features: ['input_features', 'labels'],\n",
       "        num_rows: 86757\n",
       "    })\n",
       "})"
      ]
     },
     "execution_count": 36,
     "metadata": {},
     "output_type": "execute_result"
    }
   ],
   "source": [
    "dataset"
   ]
  },
  {
   "cell_type": "code",
   "execution_count": 38,
   "id": "14beaa76-25bf-4bc1-b64c-8208a3938dd6",
   "metadata": {},
   "outputs": [
    {
     "data": {
      "text/plain": [
       "DatasetDict({\n",
       "    train: Dataset({\n",
       "        features: ['input_features', 'labels'],\n",
       "        num_rows: 780809\n",
       "    })\n",
       "    test: Dataset({\n",
       "        features: ['input_features', 'labels'],\n",
       "        num_rows: 86757\n",
       "    })\n",
       "})"
      ]
     },
     "execution_count": 38,
     "metadata": {},
     "output_type": "execute_result"
    }
   ],
   "source": [
    "dataset"
   ]
  },
  {
   "cell_type": "code",
   "execution_count": 45,
   "id": "e317bd7e-458d-4c18-92d6-2f5597aec23b",
   "metadata": {},
   "outputs": [
    {
     "name": "stderr",
     "output_type": "stream",
     "text": [
      "Filter: 100%|██████████| 2500/2500 [04:16<00:00,  9.76 examples/s]\n"
     ]
    },
    {
     "data": {
      "text/plain": [
       "Dataset({\n",
       "    features: ['input_features', 'labels'],\n",
       "    num_rows: 0\n",
       "})"
      ]
     },
     "execution_count": 45,
     "metadata": {},
     "output_type": "execute_result"
    }
   ],
   "source": [
    "dataset_filtered=dataset['test'].select(range(5000,7500)).filter(lambda x: len(x['labels'])==0)\n",
    "dataset_filtered"
   ]
  },
  {
   "cell_type": "code",
   "execution_count": 46,
   "id": "61122ad9-0c26-4ab2-ab11-c13ade969391",
   "metadata": {},
   "outputs": [
    {
     "data": {
      "text/plain": [
       "Dataset({\n",
       "    features: ['input_features', 'labels'],\n",
       "    num_rows: 0\n",
       "})"
      ]
     },
     "execution_count": 46,
     "metadata": {},
     "output_type": "execute_result"
    }
   ],
   "source": [
    "dataset_filtered"
   ]
  },
  {
   "cell_type": "code",
   "execution_count": null,
   "id": "3573f05a-a82d-4964-9117-459f1cb23673",
   "metadata": {},
   "outputs": [],
   "source": []
  }
 ],
 "metadata": {
  "kernelspec": {
   "display_name": "Python 3 (ipykernel)",
   "language": "python",
   "name": "python3"
  },
  "language_info": {
   "codemirror_mode": {
    "name": "ipython",
    "version": 3
   },
   "file_extension": ".py",
   "mimetype": "text/x-python",
   "name": "python",
   "nbconvert_exporter": "python",
   "pygments_lexer": "ipython3",
   "version": "3.10.13"
  }
 },
 "nbformat": 4,
 "nbformat_minor": 5
}
