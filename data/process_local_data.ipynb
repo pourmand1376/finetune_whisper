{
 "cells": [
  {
   "cell_type": "code",
   "execution_count": null,
   "id": "e0ebc946-cc78-4cde-97f3-c3de4a9b6977",
   "metadata": {},
   "outputs": [],
   "source": []
  },
  {
   "cell_type": "code",
   "execution_count": 7,
   "id": "4fbfa5a2-d24d-4842-a464-e2bd5d6fb705",
   "metadata": {},
   "outputs": [
    {
     "name": "stderr",
     "output_type": "stream",
     "text": [
      "Resolving data files: 100%|██████████| 77/77 [00:00<00:00, 81886.77it/s]\n",
      "Resolving data files: 100%|██████████| 22/22 [00:00<00:00, 55822.56it/s]\n",
      "HF google storage unreachable. Downloading and preparing it from source\n",
      "Generating train split: 39357 examples [00:51, 765.89 examples/s]\n",
      "Generating test split: 10547 examples [00:15, 699.54 examples/s]\n"
     ]
    }
   ],
   "source": [
    "from datasets import load_dataset, DatasetDict\n",
    "common_voice=load_dataset('dataset/whisper_processed_data/common_voice_processed.hf',\n",
    "                          cache_dir='dataset/whisper_processed_data/.cache')"
   ]
  },
  {
   "cell_type": "code",
   "execution_count": null,
   "id": "35ff8a56-3136-4c93-a103-7eafba255816",
   "metadata": {},
   "outputs": [],
   "source": []
  },
  {
   "cell_type": "code",
   "execution_count": 10,
   "id": "32573644-bf99-46dd-94d7-cff1da2a314a",
   "metadata": {},
   "outputs": [
    {
     "name": "stderr",
     "output_type": "stream",
     "text": [
      "Resolving data files: 100%|██████████| 55/55 [00:00<00:00, 92385.55it/s]\n",
      "HF google storage unreachable. Downloading and preparing it from source\n",
      "Generating train split: 27702 examples [02:29, 185.66 examples/s]\n",
      "Generating test split: 3078 examples [00:18, 165.37 examples/s]\n"
     ]
    }
   ],
   "source": [
    "kyc = load_dataset('dataset/whisper_processed_data/kyc-processed.hf', \n",
    "                  cache_dir='dataset/whisper_processed_data/.cache')\n"
   ]
  },
  {
   "cell_type": "code",
   "execution_count": 11,
   "id": "d435354e-5a87-4f37-a762-bce4eabe0859",
   "metadata": {},
   "outputs": [],
   "source": [
    "from datasets import concatenate_datasets"
   ]
  },
  {
   "cell_type": "code",
   "execution_count": 14,
   "id": "4d7e6d37-925e-443d-9e6c-0103a37892f8",
   "metadata": {},
   "outputs": [],
   "source": [
    "assert kyc['train'].features.type == common_voice['train'].features.type"
   ]
  },
  {
   "cell_type": "code",
   "execution_count": 15,
   "id": "7baaa3eb-ad62-49b6-b46a-9164c3b96eca",
   "metadata": {},
   "outputs": [
    {
     "data": {
      "text/plain": [
       "Dataset({\n",
       "    features: ['input_features', 'labels'],\n",
       "    num_rows: 67059\n",
       "})"
      ]
     },
     "execution_count": 15,
     "metadata": {},
     "output_type": "execute_result"
    }
   ],
   "source": [
    "concatenate_datasets([kyc['train'], common_voice['train']])"
   ]
  },
  {
   "cell_type": "code",
   "execution_count": 16,
   "id": "682cecb9-da63-4b0b-9d92-8fa6f8476a0f",
   "metadata": {},
   "outputs": [
    {
     "data": {
      "text/plain": [
       "Dataset({\n",
       "    features: ['input_features', 'labels'],\n",
       "    num_rows: 13625\n",
       "})"
      ]
     },
     "execution_count": 16,
     "metadata": {},
     "output_type": "execute_result"
    }
   ],
   "source": [
    "concatenate_datasets([kyc['test'], common_voice['test']])"
   ]
  },
  {
   "cell_type": "code",
   "execution_count": 17,
   "id": "b0d08821-4ead-493c-b770-d89fd5679ebb",
   "metadata": {},
   "outputs": [
    {
     "name": "stderr",
     "output_type": "stream",
     "text": [
      "Resolving data files: 100%|██████████| 1502/1502 [00:00<00:00, 107291.66it/s]\n",
      "Resolving data files: 100%|██████████| 168/168 [00:00<00:00, 123448.33it/s]\n",
      "HF google storage unreachable. Downloading and preparing it from source\n",
      "Generating train split: 780809 examples [49:08, 264.80 examples/s]\n",
      "Generating test split: 86757 examples [04:34, 316.54 examples/s]\n"
     ]
    }
   ],
   "source": [
    "crm = load_dataset('dataset/whisper_processed_data/crm-processed.hf', \n",
    "                  cache_dir='dataset/whisper_processed_data/.cache')\n"
   ]
  },
  {
   "cell_type": "code",
   "execution_count": null,
   "id": "c43ee42d-db91-4be4-9568-b69348c69f69",
   "metadata": {},
   "outputs": [],
   "source": []
  }
 ],
 "metadata": {
  "kernelspec": {
   "display_name": "Python 3 (ipykernel)",
   "language": "python",
   "name": "python3"
  },
  "language_info": {
   "codemirror_mode": {
    "name": "ipython",
    "version": 3
   },
   "file_extension": ".py",
   "mimetype": "text/x-python",
   "name": "python",
   "nbconvert_exporter": "python",
   "pygments_lexer": "ipython3",
   "version": "3.10.13"
  }
 },
 "nbformat": 4,
 "nbformat_minor": 5
}
